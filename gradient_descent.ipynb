{
 "cells": [
  {
   "cell_type": "code",
   "execution_count": 12,
   "id": "6b8e0479",
   "metadata": {},
   "outputs": [],
   "source": [
    "using GLMakie\n",
    "using LinearAlgebra"
   ]
  },
  {
   "cell_type": "code",
   "execution_count": 13,
   "id": "779cd729",
   "metadata": {},
   "outputs": [],
   "source": [
    "x = -10:0.1:10\n",
    "y = -10:0.1:10\n",
    "\n",
    "z = [xx^2+yy^2 for xx in x, yy in y]\n",
    "\n",
    "fig = Figure()\n",
    "ax = Axis3(fig[1,1])\n",
    "\n",
    "surface!(x,y,z)\n",
    "fig"
   ]
  },
  {
   "cell_type": "code",
   "execution_count": 15,
   "id": "c6a19441",
   "metadata": {},
   "outputs": [
    {
     "data": {
      "text/plain": [
       "gradient_descent (generic function with 1 method)"
      ]
     },
     "metadata": {},
     "output_type": "display_data"
    }
   ],
   "source": [
    "function gradient_descent(v0, ∇f, α, δ, k_max)\n",
    "    v_prev = v0\n",
    "    for k in 1:k_max\n",
    "        v = v_prev - α*∇f(v_prev)\n",
    "        if norm(v - v_prev) < δ\n",
    "            return v, k\n",
    "        end\n",
    "        v_prev = v\n",
    "    end\n",
    "    println(\"Warning: iteration limit $(k_max) exceeded\")\n",
    "    return v, k\n",
    "end"
   ]
  },
  {
   "cell_type": "code",
   "execution_count": 16,
   "id": "907f551c",
   "metadata": {},
   "outputs": [
    {
     "data": {
      "text/plain": [
       "∇f (generic function with 1 method)"
      ]
     },
     "metadata": {},
     "output_type": "display_data"
    }
   ],
   "source": [
    "function ∇f(v)\n",
    "    return [2v[1], 2v[2]]\n",
    "end"
   ]
  },
  {
   "cell_type": "code",
   "execution_count": 1,
   "id": "20412b23",
   "metadata": {},
   "outputs": [
    {
     "ename": "LoadError",
     "evalue": "UndefVarError: `gradient_descent` not defined in `Main`\nSuggestion: check for spelling errors or missing imports.",
     "output_type": "error",
     "traceback": [
      "UndefVarError: `gradient_descent` not defined in `Main`\nSuggestion: check for spelling errors or missing imports.",
      "",
      "Stacktrace:",
      " [1] top-level scope",
      "\u001b[90m   @\u001b[39m \u001b[90m./\u001b[39m\u001b[90m\u001b[4mIn[1]:11\u001b[24m\u001b[39m"
     ]
    }
   ],
   "source": [
    "α = 0.001\n",
    "δ = 0.000001\n",
    "k_max = 100_000\n",
    "\n",
    "v0s = []\n",
    "ks  = []\n",
    "\n",
    "n = 1000\n",
    "for i in 1:n\n",
    "    v0 = [rand(), rand()]\n",
    "    v_f, k = gradient_descent(v0, ∇f, α, δ, k_max)\n",
    "    push!(v0s, v0)\n",
    "    push!(ks, k)\n",
    "end\n",
    "\n",
    "# println(\"v0: $(round.(v0, digits=3))\")\n",
    "# println(\"v: $(round.(v_f, digits=3))\")\n",
    "# println(\"iterations: $k\")"
   ]
  },
  {
   "cell_type": "code",
   "execution_count": 18,
   "id": "26d37a23",
   "metadata": {},
   "outputs": [],
   "source": [
    "xs,ys = first.(v0s), last.(v0s)\n",
    "\n",
    "fig2 = Figure()\n",
    "ax = Axis3(fig2[1,1])\n",
    "scatter!(xs, ys, ks)\n",
    "fig2\n"
   ]
  },
  {
   "cell_type": "code",
   "execution_count": 19,
   "id": "7b13b27e",
   "metadata": {},
   "outputs": [],
   "source": [
    "fig3 = Figure()\n",
    "ax = Axis(fig3[1,1])\n",
    "\n",
    "scatter!(log.(norm.(v0s)), ks)\n",
    "scatter!(norm.(v0s), ks)\n",
    "fig3"
   ]
  },
  {
   "cell_type": "code",
   "execution_count": null,
   "id": "3c5c7959",
   "metadata": {},
   "outputs": [],
   "source": [
    "# TODO: 3D gradient descent animation with vectors, points, record"
   ]
  }
 ],
 "metadata": {
  "kernelspec": {
   "display_name": "Julia 1.11.7",
   "language": "julia",
   "name": "julia-1.11"
  },
  "language_info": {
   "file_extension": ".jl",
   "mimetype": "application/julia",
   "name": "julia",
   "version": "1.11.7"
  }
 },
 "nbformat": 4,
 "nbformat_minor": 5
}
