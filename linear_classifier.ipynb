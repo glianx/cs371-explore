{
 "cells": [
  {
   "cell_type": "code",
   "execution_count": 1,
   "id": "c576a128",
   "metadata": {},
   "outputs": [],
   "source": [
    "using GLMakie\n",
    "using LinearAlgebra\n",
    "using Colors"
   ]
  },
  {
   "cell_type": "code",
   "execution_count": 2,
   "id": "f9a48080",
   "metadata": {},
   "outputs": [],
   "source": [
    "k = 3\n",
    "x = -10:0.1:10\n",
    "y = -10:0.1:10\n",
    "\n",
    "w1 = [ rand(), rand() ]\n",
    "w2 = [ rand(), rand() ]\n",
    "w3 = [ rand(), rand() ]\n",
    "b1 = rand()\n",
    "b2 = rand()\n",
    "b3 = rand()\n",
    "\n",
    "function s(z::AbstractArray{<:Real})\n",
    "    # return atan.(z)\n",
    "    return 1 ./ (1 .+ exp.(-z))\n",
    "    # return z\n",
    "end\n",
    "\n",
    "z1 = s([ b1 + dot(w1,[xx, yy]) for xx in x, yy in y])\n",
    "z2 = s([ b2 + dot(w2,[xx, yy]) for xx in x, yy in y])\n",
    "z3 = s([ b3 + dot(w3,[xx, yy]) for xx in x, yy in y])\n",
    "\n",
    "fig = Figure()\n",
    "ax = Axis3(fig[1,1])\n",
    "\n",
    "# surface!(x,y,z1)\n",
    "# surface!(x,y,z2)\n",
    "# surface!(x,y,z3)\n",
    "surface!(x,y,max.(z1,z2,z3))\n",
    "\n",
    "fig"
   ]
  }
 ],
 "metadata": {
  "kernelspec": {
   "display_name": "Julia 1.11.7",
   "language": "julia",
   "name": "julia-1.11"
  },
  "language_info": {
   "file_extension": ".jl",
   "mimetype": "application/julia",
   "name": "julia",
   "version": "1.11.7"
  }
 },
 "nbformat": 4,
 "nbformat_minor": 5
}
